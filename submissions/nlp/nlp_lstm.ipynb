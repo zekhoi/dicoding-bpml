{
  "nbformat": 4,
  "nbformat_minor": 0,
  "metadata": {
    "colab": {
      "provenance": [],
      "collapsed_sections": [
        "0nDQmKQjUZQB",
        "zilzfTH4UWgC",
        "OOfb3hQzn92R",
        "V_xw4gmzascd",
        "VNWdoCEoal5K",
        "qGsYyhiEbPdL",
        "7nTltsRsbbrG",
        "-CKEEGzJguMJ"
      ]
    },
    "kernelspec": {
      "name": "python3",
      "display_name": "Python 3"
    },
    "language_info": {
      "name": "python"
    }
  },
  "cells": [
    {
      "cell_type": "markdown",
      "source": [
        "# **Libraries**"
      ],
      "metadata": {
        "id": "0nDQmKQjUZQB"
      }
    },
    {
      "cell_type": "code",
      "source": [
        "import warnings\n",
        "import pandas as pd\n",
        "import tensorflow as tf\n",
        "import matplotlib.pyplot as plt\n",
        "import numpy as np\n",
        "from sklearn.model_selection import train_test_split\n",
        "from tensorflow.keras.preprocessing.text import Tokenizer\n",
        "from sklearn.preprocessing import LabelEncoder\n",
        "from tensorflow.keras.preprocessing.sequence import pad_sequences\n",
        "from tensorflow.keras import Sequential\n",
        "from sklearn.metrics import confusion_matrix, classification_report"
      ],
      "metadata": {
        "id": "S53zhrb6UcNl"
      },
      "execution_count": 1,
      "outputs": []
    },
    {
      "cell_type": "code",
      "source": [
        "warnings.filterwarnings('ignore')"
      ],
      "metadata": {
        "id": "mxVaugD1VBnq"
      },
      "execution_count": 2,
      "outputs": []
    },
    {
      "cell_type": "markdown",
      "source": [
        "# **Data Preparation**"
      ],
      "metadata": {
        "id": "zilzfTH4UWgC"
      }
    },
    {
      "cell_type": "markdown",
      "source": [
        "## **Download Data**"
      ],
      "metadata": {
        "id": "OOfb3hQzn92R"
      }
    },
    {
      "cell_type": "code",
      "execution_count": 3,
      "metadata": {
        "colab": {
          "base_uri": "https://localhost:8080/"
        },
        "id": "LTenLZAPRlj3",
        "outputId": "738624db-c86c-434f-ab23-c2211edb483b"
      },
      "outputs": [
        {
          "output_type": "stream",
          "name": "stdout",
          "text": [
            "--2022-09-10 05:15:02--  https://raw.githubusercontent.com/zekhoi/dicoding-bpml/master/data/nlp/emotions.txt\n",
            "Resolving raw.githubusercontent.com (raw.githubusercontent.com)... 185.199.108.133, 185.199.109.133, 185.199.110.133, ...\n",
            "Connecting to raw.githubusercontent.com (raw.githubusercontent.com)|185.199.108.133|:443... connected.\n",
            "HTTP request sent, awaiting response... 200 OK\n",
            "Length: 1658616 (1.6M) [text/plain]\n",
            "Saving to: ‘/tmp/data.txt’\n",
            "\n",
            "/tmp/data.txt       100%[===================>]   1.58M  --.-KB/s    in 0.06s   \n",
            "\n",
            "2022-09-10 05:15:02 (28.2 MB/s) - ‘/tmp/data.txt’ saved [1658616/1658616]\n",
            "\n"
          ]
        }
      ],
      "source": [
        "# Because this data (train.txt) has 16k (2k required) text, i use it as main data and then split it to train and test\n",
        "!wget --no-check-certificate https://raw.githubusercontent.com/zekhoi/dicoding-bpml/master/data/nlp/emotions.txt -O /tmp/data.txt"
      ]
    },
    {
      "cell_type": "code",
      "source": [
        "df = pd.read_csv(\"/tmp/data.txt\", error_bad_lines=False, delimiter=\";\", names=[\"text\",\"emotions\"])\n",
        "df"
      ],
      "metadata": {
        "colab": {
          "base_uri": "https://localhost:8080/",
          "height": 0
        },
        "id": "vjSQzsIeUiTu",
        "outputId": "aeb7ed00-e5e4-4ef2-bd5e-186224f533f8"
      },
      "execution_count": 4,
      "outputs": [
        {
          "output_type": "execute_result",
          "data": {
            "text/plain": [
              "                                                    text emotions\n",
              "0                                i didnt feel humiliated  sadness\n",
              "1      i can go from feeling so hopeless to so damned...  sadness\n",
              "2       im grabbing a minute to post i feel greedy wrong    anger\n",
              "3      i am ever feeling nostalgic about the fireplac...     love\n",
              "4                                   i am feeling grouchy    anger\n",
              "...                                                  ...      ...\n",
              "15995  i just had a very brief time in the beanbag an...  sadness\n",
              "15996  i am now turning and i feel pathetic that i am...  sadness\n",
              "15997                     i feel strong and good overall      joy\n",
              "15998  i feel like this was such a rude comment and i...    anger\n",
              "15999  i know a lot but i feel so stupid because i ca...  sadness\n",
              "\n",
              "[16000 rows x 2 columns]"
            ],
            "text/html": [
              "\n",
              "  <div id=\"df-9a4afbe0-b528-40c5-9c0f-3398d3d36356\">\n",
              "    <div class=\"colab-df-container\">\n",
              "      <div>\n",
              "<style scoped>\n",
              "    .dataframe tbody tr th:only-of-type {\n",
              "        vertical-align: middle;\n",
              "    }\n",
              "\n",
              "    .dataframe tbody tr th {\n",
              "        vertical-align: top;\n",
              "    }\n",
              "\n",
              "    .dataframe thead th {\n",
              "        text-align: right;\n",
              "    }\n",
              "</style>\n",
              "<table border=\"1\" class=\"dataframe\">\n",
              "  <thead>\n",
              "    <tr style=\"text-align: right;\">\n",
              "      <th></th>\n",
              "      <th>text</th>\n",
              "      <th>emotions</th>\n",
              "    </tr>\n",
              "  </thead>\n",
              "  <tbody>\n",
              "    <tr>\n",
              "      <th>0</th>\n",
              "      <td>i didnt feel humiliated</td>\n",
              "      <td>sadness</td>\n",
              "    </tr>\n",
              "    <tr>\n",
              "      <th>1</th>\n",
              "      <td>i can go from feeling so hopeless to so damned...</td>\n",
              "      <td>sadness</td>\n",
              "    </tr>\n",
              "    <tr>\n",
              "      <th>2</th>\n",
              "      <td>im grabbing a minute to post i feel greedy wrong</td>\n",
              "      <td>anger</td>\n",
              "    </tr>\n",
              "    <tr>\n",
              "      <th>3</th>\n",
              "      <td>i am ever feeling nostalgic about the fireplac...</td>\n",
              "      <td>love</td>\n",
              "    </tr>\n",
              "    <tr>\n",
              "      <th>4</th>\n",
              "      <td>i am feeling grouchy</td>\n",
              "      <td>anger</td>\n",
              "    </tr>\n",
              "    <tr>\n",
              "      <th>...</th>\n",
              "      <td>...</td>\n",
              "      <td>...</td>\n",
              "    </tr>\n",
              "    <tr>\n",
              "      <th>15995</th>\n",
              "      <td>i just had a very brief time in the beanbag an...</td>\n",
              "      <td>sadness</td>\n",
              "    </tr>\n",
              "    <tr>\n",
              "      <th>15996</th>\n",
              "      <td>i am now turning and i feel pathetic that i am...</td>\n",
              "      <td>sadness</td>\n",
              "    </tr>\n",
              "    <tr>\n",
              "      <th>15997</th>\n",
              "      <td>i feel strong and good overall</td>\n",
              "      <td>joy</td>\n",
              "    </tr>\n",
              "    <tr>\n",
              "      <th>15998</th>\n",
              "      <td>i feel like this was such a rude comment and i...</td>\n",
              "      <td>anger</td>\n",
              "    </tr>\n",
              "    <tr>\n",
              "      <th>15999</th>\n",
              "      <td>i know a lot but i feel so stupid because i ca...</td>\n",
              "      <td>sadness</td>\n",
              "    </tr>\n",
              "  </tbody>\n",
              "</table>\n",
              "<p>16000 rows × 2 columns</p>\n",
              "</div>\n",
              "      <button class=\"colab-df-convert\" onclick=\"convertToInteractive('df-9a4afbe0-b528-40c5-9c0f-3398d3d36356')\"\n",
              "              title=\"Convert this dataframe to an interactive table.\"\n",
              "              style=\"display:none;\">\n",
              "        \n",
              "  <svg xmlns=\"http://www.w3.org/2000/svg\" height=\"24px\"viewBox=\"0 0 24 24\"\n",
              "       width=\"24px\">\n",
              "    <path d=\"M0 0h24v24H0V0z\" fill=\"none\"/>\n",
              "    <path d=\"M18.56 5.44l.94 2.06.94-2.06 2.06-.94-2.06-.94-.94-2.06-.94 2.06-2.06.94zm-11 1L8.5 8.5l.94-2.06 2.06-.94-2.06-.94L8.5 2.5l-.94 2.06-2.06.94zm10 10l.94 2.06.94-2.06 2.06-.94-2.06-.94-.94-2.06-.94 2.06-2.06.94z\"/><path d=\"M17.41 7.96l-1.37-1.37c-.4-.4-.92-.59-1.43-.59-.52 0-1.04.2-1.43.59L10.3 9.45l-7.72 7.72c-.78.78-.78 2.05 0 2.83L4 21.41c.39.39.9.59 1.41.59.51 0 1.02-.2 1.41-.59l7.78-7.78 2.81-2.81c.8-.78.8-2.07 0-2.86zM5.41 20L4 18.59l7.72-7.72 1.47 1.35L5.41 20z\"/>\n",
              "  </svg>\n",
              "      </button>\n",
              "      \n",
              "  <style>\n",
              "    .colab-df-container {\n",
              "      display:flex;\n",
              "      flex-wrap:wrap;\n",
              "      gap: 12px;\n",
              "    }\n",
              "\n",
              "    .colab-df-convert {\n",
              "      background-color: #E8F0FE;\n",
              "      border: none;\n",
              "      border-radius: 50%;\n",
              "      cursor: pointer;\n",
              "      display: none;\n",
              "      fill: #1967D2;\n",
              "      height: 32px;\n",
              "      padding: 0 0 0 0;\n",
              "      width: 32px;\n",
              "    }\n",
              "\n",
              "    .colab-df-convert:hover {\n",
              "      background-color: #E2EBFA;\n",
              "      box-shadow: 0px 1px 2px rgba(60, 64, 67, 0.3), 0px 1px 3px 1px rgba(60, 64, 67, 0.15);\n",
              "      fill: #174EA6;\n",
              "    }\n",
              "\n",
              "    [theme=dark] .colab-df-convert {\n",
              "      background-color: #3B4455;\n",
              "      fill: #D2E3FC;\n",
              "    }\n",
              "\n",
              "    [theme=dark] .colab-df-convert:hover {\n",
              "      background-color: #434B5C;\n",
              "      box-shadow: 0px 1px 3px 1px rgba(0, 0, 0, 0.15);\n",
              "      filter: drop-shadow(0px 1px 2px rgba(0, 0, 0, 0.3));\n",
              "      fill: #FFFFFF;\n",
              "    }\n",
              "  </style>\n",
              "\n",
              "      <script>\n",
              "        const buttonEl =\n",
              "          document.querySelector('#df-9a4afbe0-b528-40c5-9c0f-3398d3d36356 button.colab-df-convert');\n",
              "        buttonEl.style.display =\n",
              "          google.colab.kernel.accessAllowed ? 'block' : 'none';\n",
              "\n",
              "        async function convertToInteractive(key) {\n",
              "          const element = document.querySelector('#df-9a4afbe0-b528-40c5-9c0f-3398d3d36356');\n",
              "          const dataTable =\n",
              "            await google.colab.kernel.invokeFunction('convertToInteractive',\n",
              "                                                     [key], {});\n",
              "          if (!dataTable) return;\n",
              "\n",
              "          const docLinkHtml = 'Like what you see? Visit the ' +\n",
              "            '<a target=\"_blank\" href=https://colab.research.google.com/notebooks/data_table.ipynb>data table notebook</a>'\n",
              "            + ' to learn more about interactive tables.';\n",
              "          element.innerHTML = '';\n",
              "          dataTable['output_type'] = 'display_data';\n",
              "          await google.colab.output.renderOutput(dataTable, element);\n",
              "          const docLink = document.createElement('div');\n",
              "          docLink.innerHTML = docLinkHtml;\n",
              "          element.appendChild(docLink);\n",
              "        }\n",
              "      </script>\n",
              "    </div>\n",
              "  </div>\n",
              "  "
            ]
          },
          "metadata": {},
          "execution_count": 4
        }
      ]
    },
    {
      "cell_type": "markdown",
      "source": [
        "## **Initialize**"
      ],
      "metadata": {
        "id": "V_xw4gmzascd"
      }
    },
    {
      "cell_type": "code",
      "source": [
        "df[\"emotions\"].value_counts()"
      ],
      "metadata": {
        "colab": {
          "base_uri": "https://localhost:8080/"
        },
        "id": "UkG6fyvGVVTO",
        "outputId": "8ef2d13e-bd38-4b67-c6ba-95c7dc42cd7c"
      },
      "execution_count": 5,
      "outputs": [
        {
          "output_type": "execute_result",
          "data": {
            "text/plain": [
              "joy         5362\n",
              "sadness     4666\n",
              "anger       2159\n",
              "fear        1937\n",
              "love        1304\n",
              "surprise     572\n",
              "Name: emotions, dtype: int64"
            ]
          },
          "metadata": {},
          "execution_count": 5
        }
      ]
    },
    {
      "cell_type": "code",
      "source": [
        "emotions = pd.get_dummies(df.emotions)\n",
        "df = pd.concat([df, emotions], axis = 1)\n",
        "df = df.drop(columns = \"emotions\")\n",
        "df"
      ],
      "metadata": {
        "colab": {
          "base_uri": "https://localhost:8080/",
          "height": 0
        },
        "id": "7osTBM9VVs2g",
        "outputId": "50f04f87-dc4c-4a7f-a688-7afda36ed4b1"
      },
      "execution_count": 6,
      "outputs": [
        {
          "output_type": "execute_result",
          "data": {
            "text/plain": [
              "                                                    text  anger  fear  joy  \\\n",
              "0                                i didnt feel humiliated      0     0    0   \n",
              "1      i can go from feeling so hopeless to so damned...      0     0    0   \n",
              "2       im grabbing a minute to post i feel greedy wrong      1     0    0   \n",
              "3      i am ever feeling nostalgic about the fireplac...      0     0    0   \n",
              "4                                   i am feeling grouchy      1     0    0   \n",
              "...                                                  ...    ...   ...  ...   \n",
              "15995  i just had a very brief time in the beanbag an...      0     0    0   \n",
              "15996  i am now turning and i feel pathetic that i am...      0     0    0   \n",
              "15997                     i feel strong and good overall      0     0    1   \n",
              "15998  i feel like this was such a rude comment and i...      1     0    0   \n",
              "15999  i know a lot but i feel so stupid because i ca...      0     0    0   \n",
              "\n",
              "       love  sadness  surprise  \n",
              "0         0        1         0  \n",
              "1         0        1         0  \n",
              "2         0        0         0  \n",
              "3         1        0         0  \n",
              "4         0        0         0  \n",
              "...     ...      ...       ...  \n",
              "15995     0        1         0  \n",
              "15996     0        1         0  \n",
              "15997     0        0         0  \n",
              "15998     0        0         0  \n",
              "15999     0        1         0  \n",
              "\n",
              "[16000 rows x 7 columns]"
            ],
            "text/html": [
              "\n",
              "  <div id=\"df-8a21a29e-66e6-4811-b874-45ae22bedd9d\">\n",
              "    <div class=\"colab-df-container\">\n",
              "      <div>\n",
              "<style scoped>\n",
              "    .dataframe tbody tr th:only-of-type {\n",
              "        vertical-align: middle;\n",
              "    }\n",
              "\n",
              "    .dataframe tbody tr th {\n",
              "        vertical-align: top;\n",
              "    }\n",
              "\n",
              "    .dataframe thead th {\n",
              "        text-align: right;\n",
              "    }\n",
              "</style>\n",
              "<table border=\"1\" class=\"dataframe\">\n",
              "  <thead>\n",
              "    <tr style=\"text-align: right;\">\n",
              "      <th></th>\n",
              "      <th>text</th>\n",
              "      <th>anger</th>\n",
              "      <th>fear</th>\n",
              "      <th>joy</th>\n",
              "      <th>love</th>\n",
              "      <th>sadness</th>\n",
              "      <th>surprise</th>\n",
              "    </tr>\n",
              "  </thead>\n",
              "  <tbody>\n",
              "    <tr>\n",
              "      <th>0</th>\n",
              "      <td>i didnt feel humiliated</td>\n",
              "      <td>0</td>\n",
              "      <td>0</td>\n",
              "      <td>0</td>\n",
              "      <td>0</td>\n",
              "      <td>1</td>\n",
              "      <td>0</td>\n",
              "    </tr>\n",
              "    <tr>\n",
              "      <th>1</th>\n",
              "      <td>i can go from feeling so hopeless to so damned...</td>\n",
              "      <td>0</td>\n",
              "      <td>0</td>\n",
              "      <td>0</td>\n",
              "      <td>0</td>\n",
              "      <td>1</td>\n",
              "      <td>0</td>\n",
              "    </tr>\n",
              "    <tr>\n",
              "      <th>2</th>\n",
              "      <td>im grabbing a minute to post i feel greedy wrong</td>\n",
              "      <td>1</td>\n",
              "      <td>0</td>\n",
              "      <td>0</td>\n",
              "      <td>0</td>\n",
              "      <td>0</td>\n",
              "      <td>0</td>\n",
              "    </tr>\n",
              "    <tr>\n",
              "      <th>3</th>\n",
              "      <td>i am ever feeling nostalgic about the fireplac...</td>\n",
              "      <td>0</td>\n",
              "      <td>0</td>\n",
              "      <td>0</td>\n",
              "      <td>1</td>\n",
              "      <td>0</td>\n",
              "      <td>0</td>\n",
              "    </tr>\n",
              "    <tr>\n",
              "      <th>4</th>\n",
              "      <td>i am feeling grouchy</td>\n",
              "      <td>1</td>\n",
              "      <td>0</td>\n",
              "      <td>0</td>\n",
              "      <td>0</td>\n",
              "      <td>0</td>\n",
              "      <td>0</td>\n",
              "    </tr>\n",
              "    <tr>\n",
              "      <th>...</th>\n",
              "      <td>...</td>\n",
              "      <td>...</td>\n",
              "      <td>...</td>\n",
              "      <td>...</td>\n",
              "      <td>...</td>\n",
              "      <td>...</td>\n",
              "      <td>...</td>\n",
              "    </tr>\n",
              "    <tr>\n",
              "      <th>15995</th>\n",
              "      <td>i just had a very brief time in the beanbag an...</td>\n",
              "      <td>0</td>\n",
              "      <td>0</td>\n",
              "      <td>0</td>\n",
              "      <td>0</td>\n",
              "      <td>1</td>\n",
              "      <td>0</td>\n",
              "    </tr>\n",
              "    <tr>\n",
              "      <th>15996</th>\n",
              "      <td>i am now turning and i feel pathetic that i am...</td>\n",
              "      <td>0</td>\n",
              "      <td>0</td>\n",
              "      <td>0</td>\n",
              "      <td>0</td>\n",
              "      <td>1</td>\n",
              "      <td>0</td>\n",
              "    </tr>\n",
              "    <tr>\n",
              "      <th>15997</th>\n",
              "      <td>i feel strong and good overall</td>\n",
              "      <td>0</td>\n",
              "      <td>0</td>\n",
              "      <td>1</td>\n",
              "      <td>0</td>\n",
              "      <td>0</td>\n",
              "      <td>0</td>\n",
              "    </tr>\n",
              "    <tr>\n",
              "      <th>15998</th>\n",
              "      <td>i feel like this was such a rude comment and i...</td>\n",
              "      <td>1</td>\n",
              "      <td>0</td>\n",
              "      <td>0</td>\n",
              "      <td>0</td>\n",
              "      <td>0</td>\n",
              "      <td>0</td>\n",
              "    </tr>\n",
              "    <tr>\n",
              "      <th>15999</th>\n",
              "      <td>i know a lot but i feel so stupid because i ca...</td>\n",
              "      <td>0</td>\n",
              "      <td>0</td>\n",
              "      <td>0</td>\n",
              "      <td>0</td>\n",
              "      <td>1</td>\n",
              "      <td>0</td>\n",
              "    </tr>\n",
              "  </tbody>\n",
              "</table>\n",
              "<p>16000 rows × 7 columns</p>\n",
              "</div>\n",
              "      <button class=\"colab-df-convert\" onclick=\"convertToInteractive('df-8a21a29e-66e6-4811-b874-45ae22bedd9d')\"\n",
              "              title=\"Convert this dataframe to an interactive table.\"\n",
              "              style=\"display:none;\">\n",
              "        \n",
              "  <svg xmlns=\"http://www.w3.org/2000/svg\" height=\"24px\"viewBox=\"0 0 24 24\"\n",
              "       width=\"24px\">\n",
              "    <path d=\"M0 0h24v24H0V0z\" fill=\"none\"/>\n",
              "    <path d=\"M18.56 5.44l.94 2.06.94-2.06 2.06-.94-2.06-.94-.94-2.06-.94 2.06-2.06.94zm-11 1L8.5 8.5l.94-2.06 2.06-.94-2.06-.94L8.5 2.5l-.94 2.06-2.06.94zm10 10l.94 2.06.94-2.06 2.06-.94-2.06-.94-.94-2.06-.94 2.06-2.06.94z\"/><path d=\"M17.41 7.96l-1.37-1.37c-.4-.4-.92-.59-1.43-.59-.52 0-1.04.2-1.43.59L10.3 9.45l-7.72 7.72c-.78.78-.78 2.05 0 2.83L4 21.41c.39.39.9.59 1.41.59.51 0 1.02-.2 1.41-.59l7.78-7.78 2.81-2.81c.8-.78.8-2.07 0-2.86zM5.41 20L4 18.59l7.72-7.72 1.47 1.35L5.41 20z\"/>\n",
              "  </svg>\n",
              "      </button>\n",
              "      \n",
              "  <style>\n",
              "    .colab-df-container {\n",
              "      display:flex;\n",
              "      flex-wrap:wrap;\n",
              "      gap: 12px;\n",
              "    }\n",
              "\n",
              "    .colab-df-convert {\n",
              "      background-color: #E8F0FE;\n",
              "      border: none;\n",
              "      border-radius: 50%;\n",
              "      cursor: pointer;\n",
              "      display: none;\n",
              "      fill: #1967D2;\n",
              "      height: 32px;\n",
              "      padding: 0 0 0 0;\n",
              "      width: 32px;\n",
              "    }\n",
              "\n",
              "    .colab-df-convert:hover {\n",
              "      background-color: #E2EBFA;\n",
              "      box-shadow: 0px 1px 2px rgba(60, 64, 67, 0.3), 0px 1px 3px 1px rgba(60, 64, 67, 0.15);\n",
              "      fill: #174EA6;\n",
              "    }\n",
              "\n",
              "    [theme=dark] .colab-df-convert {\n",
              "      background-color: #3B4455;\n",
              "      fill: #D2E3FC;\n",
              "    }\n",
              "\n",
              "    [theme=dark] .colab-df-convert:hover {\n",
              "      background-color: #434B5C;\n",
              "      box-shadow: 0px 1px 3px 1px rgba(0, 0, 0, 0.15);\n",
              "      filter: drop-shadow(0px 1px 2px rgba(0, 0, 0, 0.3));\n",
              "      fill: #FFFFFF;\n",
              "    }\n",
              "  </style>\n",
              "\n",
              "      <script>\n",
              "        const buttonEl =\n",
              "          document.querySelector('#df-8a21a29e-66e6-4811-b874-45ae22bedd9d button.colab-df-convert');\n",
              "        buttonEl.style.display =\n",
              "          google.colab.kernel.accessAllowed ? 'block' : 'none';\n",
              "\n",
              "        async function convertToInteractive(key) {\n",
              "          const element = document.querySelector('#df-8a21a29e-66e6-4811-b874-45ae22bedd9d');\n",
              "          const dataTable =\n",
              "            await google.colab.kernel.invokeFunction('convertToInteractive',\n",
              "                                                     [key], {});\n",
              "          if (!dataTable) return;\n",
              "\n",
              "          const docLinkHtml = 'Like what you see? Visit the ' +\n",
              "            '<a target=\"_blank\" href=https://colab.research.google.com/notebooks/data_table.ipynb>data table notebook</a>'\n",
              "            + ' to learn more about interactive tables.';\n",
              "          element.innerHTML = '';\n",
              "          dataTable['output_type'] = 'display_data';\n",
              "          await google.colab.output.renderOutput(dataTable, element);\n",
              "          const docLink = document.createElement('div');\n",
              "          docLink.innerHTML = docLinkHtml;\n",
              "          element.appendChild(docLink);\n",
              "        }\n",
              "      </script>\n",
              "    </div>\n",
              "  </div>\n",
              "  "
            ]
          },
          "metadata": {},
          "execution_count": 6
        }
      ]
    },
    {
      "cell_type": "code",
      "source": [
        "# Splitting data to X and Y\n",
        "X = df[\"text\"].values\n",
        "y = df[[\"anger\", \"fear\", \"joy\", \"love\", \"sadness\", \"surprise\"]].values\n",
        "\n",
        "# Splitting data to train and test\n",
        "X_train, X_test, y_train, y_test = train_test_split(X, y, test_size = 0.2)"
      ],
      "metadata": {
        "id": "m5NH9CN0WB_G"
      },
      "execution_count": 7,
      "outputs": []
    },
    {
      "cell_type": "markdown",
      "source": [
        "# **Execute**"
      ],
      "metadata": {
        "id": "fhqJAE-MWo17"
      }
    },
    {
      "cell_type": "markdown",
      "source": [
        "## **Tokenizing and Padding**"
      ],
      "metadata": {
        "id": "VNWdoCEoal5K"
      }
    },
    {
      "cell_type": "code",
      "source": [
        "tokenizer = Tokenizer(num_words = 16000, oov_token = \"-unknown-\")\n",
        "tokenizer.fit_on_texts(X_train)\n",
        "num_words = len(tokenizer.word_index) + 1\n",
        "\n",
        "tokenizer = Tokenizer(num_words = num_words, oov_token = \"-unknown-\")\n",
        "tokenizer.fit_on_texts(X_train) \n",
        "\n",
        "train_sequences = tokenizer.texts_to_sequences(X_train)\n",
        "train_padded = pad_sequences(train_sequences)\n",
        "\n",
        "test_sequences = tokenizer.texts_to_sequences(X_test)\n",
        "test_padded = pad_sequences(test_sequences)"
      ],
      "metadata": {
        "id": "oPLxldvXW5Lw"
      },
      "execution_count": 8,
      "outputs": []
    },
    {
      "cell_type": "markdown",
      "source": [
        "## **Model**"
      ],
      "metadata": {
        "id": "WIv8eDzEaoWv"
      }
    },
    {
      "cell_type": "markdown",
      "source": [
        "### **Callbacks**"
      ],
      "metadata": {
        "id": "qGsYyhiEbPdL"
      }
    },
    {
      "cell_type": "code",
      "source": [
        "class myCallback(tf.keras.callbacks.Callback):\n",
        "  def on_epoch_end(self, epoch, logs={}):\n",
        "    if(logs.get(\"accuracy\") > 0.9 and logs.get(\"val_accuracy\") > 0.9):\n",
        "      print(\"Target reached!\")\n",
        "      self.model.stop_training = True\n",
        "\n",
        "callbacks = myCallback()"
      ],
      "metadata": {
        "id": "73JiR-gabRM1"
      },
      "execution_count": 9,
      "outputs": []
    },
    {
      "cell_type": "markdown",
      "source": [
        "### **LSTM**"
      ],
      "metadata": {
        "id": "7nTltsRsbbrG"
      }
    },
    {
      "cell_type": "code",
      "source": [
        "# Buiding LSTM Model\n",
        "lstm_model = Sequential([\n",
        "    tf.keras.layers.Embedding(input_dim = num_words, output_dim = 36),\n",
        "    tf.keras.layers.LSTM(64),\n",
        "    tf.keras.layers.Dense(128, activation=\"relu\"),\n",
        "    tf.keras.layers.Dense(64, activation=\"relu\"),\n",
        "    tf.keras.layers.Dense(32, activation=\"relu\"),\n",
        "    tf.keras.layers.Dense(6, activation=\"softmax\")\n",
        "])\n",
        "lstm_model.summary()"
      ],
      "metadata": {
        "colab": {
          "base_uri": "https://localhost:8080/"
        },
        "id": "iG2cut_7Zrlr",
        "outputId": "b64dccc4-0d17-48f4-dbb2-00d143350f90"
      },
      "execution_count": 10,
      "outputs": [
        {
          "output_type": "stream",
          "name": "stdout",
          "text": [
            "Model: \"sequential\"\n",
            "_________________________________________________________________\n",
            " Layer (type)                Output Shape              Param #   \n",
            "=================================================================\n",
            " embedding (Embedding)       (None, None, 36)          485460    \n",
            "                                                                 \n",
            " lstm (LSTM)                 (None, 64)                25856     \n",
            "                                                                 \n",
            " dense (Dense)               (None, 128)               8320      \n",
            "                                                                 \n",
            " dense_1 (Dense)             (None, 64)                8256      \n",
            "                                                                 \n",
            " dense_2 (Dense)             (None, 32)                2080      \n",
            "                                                                 \n",
            " dense_3 (Dense)             (None, 6)                 198       \n",
            "                                                                 \n",
            "=================================================================\n",
            "Total params: 530,170\n",
            "Trainable params: 530,170\n",
            "Non-trainable params: 0\n",
            "_________________________________________________________________\n"
          ]
        }
      ]
    },
    {
      "cell_type": "markdown",
      "source": [
        "### **Training**"
      ],
      "metadata": {
        "id": "20Rk39F2grjR"
      }
    },
    {
      "cell_type": "code",
      "source": [
        "num_epochs = 30\n",
        "\n",
        "lstm_model.compile(loss = \"categorical_crossentropy\", optimizer = \"adam\", metrics = [\"accuracy\"])\n",
        "lstm_result = lstm_model.fit(train_padded, y_train, epochs = num_epochs, validation_data = (test_padded, y_test), verbose = 1)"
      ],
      "metadata": {
        "colab": {
          "base_uri": "https://localhost:8080/"
        },
        "id": "cX5qznZ6duO3",
        "outputId": "37bdb8db-1d4e-456e-be8d-27355affbb60"
      },
      "execution_count": 11,
      "outputs": [
        {
          "output_type": "stream",
          "name": "stdout",
          "text": [
            "Epoch 1/30\n",
            "400/400 [==============================] - 33s 69ms/step - loss: 1.4238 - accuracy: 0.3913 - val_loss: 1.0770 - val_accuracy: 0.5763\n",
            "Epoch 2/30\n",
            "400/400 [==============================] - 19s 46ms/step - loss: 0.6728 - accuracy: 0.7216 - val_loss: 0.5896 - val_accuracy: 0.7806\n",
            "Epoch 3/30\n",
            "400/400 [==============================] - 18s 45ms/step - loss: 0.3019 - accuracy: 0.8932 - val_loss: 0.3985 - val_accuracy: 0.8784\n",
            "Epoch 4/30\n",
            "400/400 [==============================] - 18s 45ms/step - loss: 0.1435 - accuracy: 0.9519 - val_loss: 0.3830 - val_accuracy: 0.8891\n",
            "Epoch 5/30\n",
            "400/400 [==============================] - 18s 44ms/step - loss: 0.0999 - accuracy: 0.9679 - val_loss: 0.4392 - val_accuracy: 0.8831\n",
            "Epoch 6/30\n",
            "400/400 [==============================] - 19s 47ms/step - loss: 0.0799 - accuracy: 0.9735 - val_loss: 0.4513 - val_accuracy: 0.8844\n",
            "Epoch 7/30\n",
            "400/400 [==============================] - 19s 48ms/step - loss: 0.0711 - accuracy: 0.9780 - val_loss: 0.4292 - val_accuracy: 0.8922\n",
            "Epoch 8/30\n",
            "400/400 [==============================] - 18s 45ms/step - loss: 0.0523 - accuracy: 0.9823 - val_loss: 0.4531 - val_accuracy: 0.8850\n",
            "Epoch 9/30\n",
            "400/400 [==============================] - 18s 46ms/step - loss: 0.0431 - accuracy: 0.9881 - val_loss: 0.4479 - val_accuracy: 0.8872\n",
            "Epoch 10/30\n",
            "400/400 [==============================] - 18s 45ms/step - loss: 0.0325 - accuracy: 0.9884 - val_loss: 0.5265 - val_accuracy: 0.8769\n",
            "Epoch 11/30\n",
            "400/400 [==============================] - 18s 45ms/step - loss: 0.0409 - accuracy: 0.9857 - val_loss: 0.5397 - val_accuracy: 0.8791\n",
            "Epoch 12/30\n",
            "400/400 [==============================] - 19s 47ms/step - loss: 0.0443 - accuracy: 0.9848 - val_loss: 0.4889 - val_accuracy: 0.8903\n",
            "Epoch 13/30\n",
            "400/400 [==============================] - 18s 45ms/step - loss: 0.0244 - accuracy: 0.9921 - val_loss: 0.5279 - val_accuracy: 0.8922\n",
            "Epoch 14/30\n",
            "400/400 [==============================] - 18s 45ms/step - loss: 0.0200 - accuracy: 0.9932 - val_loss: 0.5442 - val_accuracy: 0.8888\n",
            "Epoch 15/30\n",
            "400/400 [==============================] - 18s 45ms/step - loss: 0.0272 - accuracy: 0.9916 - val_loss: 0.5050 - val_accuracy: 0.8797\n",
            "Epoch 16/30\n",
            "400/400 [==============================] - 18s 45ms/step - loss: 0.0237 - accuracy: 0.9921 - val_loss: 0.5804 - val_accuracy: 0.8925\n",
            "Epoch 17/30\n",
            "400/400 [==============================] - 19s 47ms/step - loss: 0.0174 - accuracy: 0.9944 - val_loss: 0.5836 - val_accuracy: 0.8909\n",
            "Epoch 18/30\n",
            "400/400 [==============================] - 18s 45ms/step - loss: 0.0245 - accuracy: 0.9920 - val_loss: 0.6594 - val_accuracy: 0.8972\n",
            "Epoch 19/30\n",
            "400/400 [==============================] - 18s 45ms/step - loss: 0.0219 - accuracy: 0.9925 - val_loss: 0.5453 - val_accuracy: 0.8900\n",
            "Epoch 20/30\n",
            "400/400 [==============================] - 18s 45ms/step - loss: 0.0203 - accuracy: 0.9934 - val_loss: 0.6083 - val_accuracy: 0.8916\n",
            "Epoch 21/30\n",
            "400/400 [==============================] - 18s 45ms/step - loss: 0.0182 - accuracy: 0.9945 - val_loss: 0.6401 - val_accuracy: 0.8838\n",
            "Epoch 22/30\n",
            "400/400 [==============================] - 19s 47ms/step - loss: 0.0191 - accuracy: 0.9939 - val_loss: 0.5740 - val_accuracy: 0.8950\n",
            "Epoch 23/30\n",
            "400/400 [==============================] - 18s 45ms/step - loss: 0.0160 - accuracy: 0.9950 - val_loss: 0.5529 - val_accuracy: 0.8903\n",
            "Epoch 24/30\n",
            "400/400 [==============================] - 18s 45ms/step - loss: 0.0120 - accuracy: 0.9957 - val_loss: 0.7124 - val_accuracy: 0.8897\n",
            "Epoch 25/30\n",
            "400/400 [==============================] - 18s 44ms/step - loss: 0.0171 - accuracy: 0.9937 - val_loss: 0.6102 - val_accuracy: 0.8909\n",
            "Epoch 26/30\n",
            "400/400 [==============================] - 18s 45ms/step - loss: 0.0143 - accuracy: 0.9956 - val_loss: 0.6969 - val_accuracy: 0.8916\n",
            "Epoch 27/30\n",
            "400/400 [==============================] - 18s 45ms/step - loss: 0.0112 - accuracy: 0.9955 - val_loss: 0.5785 - val_accuracy: 0.8938\n",
            "Epoch 28/30\n",
            "400/400 [==============================] - 19s 48ms/step - loss: 0.0081 - accuracy: 0.9970 - val_loss: 0.6704 - val_accuracy: 0.8909\n",
            "Epoch 29/30\n",
            "400/400 [==============================] - 18s 45ms/step - loss: 0.0071 - accuracy: 0.9972 - val_loss: 0.6683 - val_accuracy: 0.8878\n",
            "Epoch 30/30\n",
            "400/400 [==============================] - 18s 45ms/step - loss: 0.0154 - accuracy: 0.9946 - val_loss: 0.6033 - val_accuracy: 0.8844\n"
          ]
        }
      ]
    },
    {
      "cell_type": "markdown",
      "source": [
        "## **Result Plot**"
      ],
      "metadata": {
        "id": "-CKEEGzJguMJ"
      }
    },
    {
      "cell_type": "code",
      "source": [
        "plt.figure(figsize=(15,7))\n",
        "plt.plot(lstm_result.history[\"accuracy\"])\n",
        "plt.plot(lstm_result.history[\"val_accuracy\"])\n",
        "plt.title(\"Model Accuracy\")\n",
        "plt.ylabel(\"accuracy\")\n",
        "plt.xlabel(\"epoch\")\n",
        "plt.legend([\"train\", \"test\"], loc = \"upper left\")\n",
        "plt.show()"
      ],
      "metadata": {
        "colab": {
          "base_uri": "https://localhost:8080/",
          "height": 0
        },
        "id": "qhEXKeBTeo_U",
        "outputId": "489a3119-c92e-4b75-a7b9-af68db665a54"
      },
      "execution_count": 12,
      "outputs": [
        {
          "output_type": "display_data",
          "data": {
            "text/plain": [
              "<Figure size 1080x504 with 1 Axes>"
            ],
            "image/png": "[encoded data removed]"
          },
          "metadata": {
            "needs_background": "light"
          }
        }
      ]
    },
    {
      "cell_type": "code",
      "source": [
        "plt.figure(figsize = (15,7))\n",
        "plt.plot(lstm_result.history[\"loss\"])\n",
        "plt.plot(lstm_result.history[\"val_loss\"])\n",
        "plt.title(\"Model Loss\")\n",
        "plt.ylabel(\"loss\")\n",
        "plt.xlabel(\"epoch\")\n",
        "plt.legend([\"train\", \"test\"], loc=\"upper left\")\n",
        "plt.show()"
      ],
      "metadata": {
        "colab": {
          "base_uri": "https://localhost:8080/",
          "height": 0
        },
        "id": "vPzFBXRzfLrP",
        "outputId": "98915c9a-46f5-474f-a38e-7ead949f9332"
      },
      "execution_count": 13,
      "outputs": [
        {
          "output_type": "display_data",
          "data": {
            "text/plain": [
              "<Figure size 1080x504 with 1 Axes>"
            ],
            "image/png": "[encoded data removed]"
          },
          "metadata": {
            "needs_background": "light"
          }
        }
      ]
    },
    {
      "cell_type": "markdown",
      "source": [
        "## **Try**"
      ],
      "metadata": {
        "id": "I-a2kiivlmz_"
      }
    },
    {
      "cell_type": "code",
      "source": [
        "# Try to predict random sentences\n",
        "sentences = df[\"text\"].sample(n = 5).values\n",
        "le = LabelEncoder()\n",
        "le.fit([\"anger\", \"fear\", \"joy\", \"love\", \"sadness\", \"surprise\"])\n",
        "\n",
        "for sentence in sentences:\n",
        "    print(sentence)\n",
        "    sentence = tokenizer.texts_to_sequences([sentence])\n",
        "    sentence = pad_sequences(sentence)\n",
        "    result = le.inverse_transform(np.argmax(lstm_model.predict(sentence), axis = -1))[0]\n",
        "    prob =  np.max(lstm_model.predict(sentence))\n",
        "    print(f\"{result} : {prob}\\n\\n\")"
      ],
      "metadata": {
        "colab": {
          "base_uri": "https://localhost:8080/"
        },
        "id": "lYeg2hSliMph",
        "outputId": "4fedafc7-2c39-4874-f5e1-0d5f87e131e5"
      },
      "execution_count": 14,
      "outputs": [
        {
          "output_type": "stream",
          "name": "stdout",
          "text": [
            "i feel relieved that a rescue party has arrived\n",
            "joy : 0.9999998807907104\n",
            "\n",
            "\n",
            "i have been walking around feeling pissed off at the world lately\n",
            "anger : 0.9999985694885254\n",
            "\n",
            "\n",
            "i can feel the cold wind\n",
            "anger : 0.9999724626541138\n",
            "\n",
            "\n",
            "i feel like my dream of being a good guitarist and playing with other musicians was just a prideful dream\n",
            "joy : 0.9999815225601196\n",
            "\n",
            "\n",
            "i remember a couple of years ago i was feeling romantic and dreamy and asked him wonder if we ll celebrate our th anniversary\n",
            "love : 0.9999810457229614\n",
            "\n",
            "\n"
          ]
        }
      ]
    }
  ]
}